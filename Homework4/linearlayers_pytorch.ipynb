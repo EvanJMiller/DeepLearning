{
 "cells": [
  {
   "cell_type": "code",
   "execution_count": 2,
   "metadata": {},
   "outputs": [],
   "source": [
    "import torch\n",
    "from torch.autograd import Variable\n",
    "import torch.nn as nn\n",
    "import torch.nn.functional as F"
   ]
  },
  {
   "cell_type": "code",
   "execution_count": 3,
   "metadata": {},
   "outputs": [],
   "source": [
    "class Net(nn.Module):\n",
    "    def __init__(self):\n",
    "        super(Net, self).__init__() #inheritance parent class\n",
    "        self.fc1 = nn.Linear(1,1)\n",
    "    def forward(self, x):\n",
    "        x = self.fc1(x)\n",
    "        return x"
   ]
  },
  {
   "cell_type": "code",
   "execution_count": 4,
   "metadata": {},
   "outputs": [
    {
     "name": "stdout",
     "output_type": "stream",
     "text": [
      "Net(\n",
      "  (fc1): Linear(in_features=1, out_features=1, bias=True)\n",
      ")\n"
     ]
    }
   ],
   "source": [
    "net = Net()\n",
    "print(net)"
   ]
  },
  {
   "cell_type": "code",
   "execution_count": 5,
   "metadata": {},
   "outputs": [
    {
     "name": "stdout",
     "output_type": "stream",
     "text": [
      "[Parameter containing:\n",
      "tensor([[0.2062]], requires_grad=True), Parameter containing:\n",
      "tensor([-0.9543], requires_grad=True)]\n"
     ]
    }
   ],
   "source": [
    "print(list(net.parameters()))\n"
   ]
  },
  {
   "cell_type": "code",
   "execution_count": 6,
   "metadata": {},
   "outputs": [
    {
     "name": "stdout",
     "output_type": "stream",
     "text": [
      "tensor([[[0.4485]]], requires_grad=True)\n"
     ]
    }
   ],
   "source": [
    "input = Variable(torch.randn(1,1,1), requires_grad=True)\n",
    "print(input)\n"
   ]
  },
  {
   "cell_type": "code",
   "execution_count": 9,
   "metadata": {},
   "outputs": [
    {
     "name": "stdout",
     "output_type": "stream",
     "text": [
      "tensor([[[-0.8619]]], grad_fn=<ThAddBackward>)\n"
     ]
    },
    {
     "data": {
      "text/plain": [
       "-0.8618193000000001"
      ]
     },
     "execution_count": 9,
     "metadata": {},
     "output_type": "execute_result"
    }
   ],
   "source": [
    "out = net(input)\n",
    "print(out)\n",
    "\n",
    "tu=1*(-0.9543)+0.4485*(0.2062) #operation done \n",
    "tu"
   ]
  },
  {
   "cell_type": "code",
   "execution_count": 10,
   "metadata": {},
   "outputs": [],
   "source": [
    "import torch.optim as optim\n",
    "def criterion(out, label):\n",
    "    return (label - out)**2\n",
    "optimizer = optim.SGD(net.parameters(), lr=0.01, momentum=0.5)"
   ]
  },
  {
   "cell_type": "code",
   "execution_count": 11,
   "metadata": {},
   "outputs": [],
   "source": [
    "#  Ax + b will be that A=3 and b=0"
   ]
  },
  {
   "cell_type": "code",
   "execution_count": 12,
   "metadata": {},
   "outputs": [],
   "source": [
    "data = [(1,3), (2,6), (3,9), (4,12), (5,15), (6,18)]\n"
   ]
  },
  {
   "cell_type": "code",
   "execution_count": 14,
   "metadata": {},
   "outputs": [
    {
     "name": "stdout",
     "output_type": "stream",
     "text": [
      "Epoch 0 - loss: 5.150070592208067e-09\n",
      "Epoch 1 - loss: 4.682135568145895e-09\n",
      "Epoch 2 - loss: 4.20550350099802e-09\n",
      "Epoch 3 - loss: 3.783725333050825e-09\n",
      "Epoch 4 - loss: 3.412026217120001e-09\n",
      "Epoch 5 - loss: 3.0859723665344063e-09\n",
      "Epoch 6 - loss: 2.751221472863108e-09\n",
      "Epoch 7 - loss: 2.459273673593998e-09\n",
      "Epoch 8 - loss: 2.2737367544323206e-09\n",
      "Epoch 9 - loss: 2.0090737962163985e-09\n",
      "Epoch 10 - loss: 1.8010268831858411e-09\n",
      "Epoch 11 - loss: 1.6427748050773516e-09\n",
      "Epoch 12 - loss: 1.4734382602910046e-09\n",
      "Epoch 13 - loss: 1.3306475921126548e-09\n",
      "Epoch 14 - loss: 1.2116743164369836e-09\n",
      "Epoch 15 - loss: 1.0668941285985056e-09\n",
      "Epoch 16 - loss: 9.606537787476555e-10\n",
      "Epoch 17 - loss: 8.74024408403784e-10\n",
      "Epoch 18 - loss: 7.914877642178908e-10\n",
      "Epoch 19 - loss: 7.003677637840156e-10\n",
      "Epoch 20 - loss: 6.386926543200389e-10\n",
      "Epoch 21 - loss: 5.913989298278466e-10\n",
      "Epoch 22 - loss: 5.130118552187923e-10\n",
      "Epoch 23 - loss: 4.707203515863512e-10\n",
      "Epoch 24 - loss: 4.204139258945361e-10\n",
      "Epoch 25 - loss: 3.729496711457614e-10\n",
      "Epoch 26 - loss: 3.370246304257307e-10\n",
      "Epoch 27 - loss: 3.112745616817847e-10\n",
      "Epoch 28 - loss: 2.7853275241795927e-10\n",
      "Epoch 29 - loss: 2.476099325576797e-10\n",
      "Epoch 30 - loss: 2.4016344468691386e-10\n",
      "Epoch 31 - loss: 1.978719410544727e-10\n",
      "Epoch 32 - loss: 1.7826096154749393e-10\n",
      "Epoch 33 - loss: 1.5967316358000971e-10\n",
      "Epoch 34 - loss: 1.3648104868480004e-10\n",
      "Epoch 35 - loss: 1.3648104868480004e-10\n",
      "Epoch 36 - loss: 1.2028067430946976e-10\n",
      "Epoch 37 - loss: 1.0510348147363402e-10\n",
      "Epoch 38 - loss: 1.0510348147363402e-10\n",
      "Epoch 39 - loss: 8.645884008728899e-11\n",
      "Epoch 40 - loss: 7.781864042044617e-11\n",
      "Epoch 41 - loss: 7.366907084360719e-11\n",
      "Epoch 42 - loss: 6.571099220309407e-11\n",
      "Epoch 43 - loss: 5.820766091346741e-11\n",
      "Epoch 44 - loss: 5.1159076974727213e-11\n",
      "Epoch 45 - loss: 4.780531526193954e-11\n",
      "Epoch 46 - loss: 4.143885234952904e-11\n",
      "Epoch 47 - loss: 3.552713678800501e-11\n",
      "Epoch 48 - loss: 3.2741809263825417e-11\n",
      "Epoch 49 - loss: 3.2741809263825417e-11\n",
      "Epoch 50 - loss: 3.007016857736744e-11\n",
      "Epoch 51 - loss: 2.5067947717616335e-11\n",
      "Epoch 52 - loss: 2.5067947717616335e-11\n",
      "Epoch 53 - loss: 1.8417267710901797e-11\n",
      "Epoch 54 - loss: 1.8417267710901797e-11\n",
      "Epoch 55 - loss: 1.6427748050773516e-11\n",
      "Epoch 56 - loss: 1.4551915228366852e-11\n",
      "Epoch 57 - loss: 1.6427748050773516e-11\n",
      "Epoch 58 - loss: 1.2789769243681803e-11\n",
      "Epoch 59 - loss: 1.1141310096718371e-11\n",
      "Epoch 60 - loss: 9.606537787476555e-12\n",
      "Epoch 61 - loss: 8.185452315956354e-12\n",
      "Epoch 62 - loss: 8.185452315956354e-12\n",
      "Epoch 63 - loss: 6.87805368215777e-12\n",
      "Epoch 64 - loss: 5.6843418860808015e-12\n",
      "Epoch 65 - loss: 5.6843418860808015e-12\n",
      "Epoch 66 - loss: 5.6843418860808015e-12\n",
      "Epoch 67 - loss: 4.604316927725449e-12\n",
      "Epoch 68 - loss: 4.604316927725449e-12\n",
      "Epoch 69 - loss: 3.637978807091713e-12\n",
      "Epoch 70 - loss: 4.604316927725449e-12\n",
      "Epoch 71 - loss: 3.637978807091713e-12\n",
      "Epoch 72 - loss: 2.7853275241795927e-12\n",
      "Epoch 73 - loss: 2.7853275241795927e-12\n",
      "Epoch 74 - loss: 2.0463630789890885e-12\n",
      "Epoch 75 - loss: 1.4210854715202004e-12\n",
      "Epoch 76 - loss: 1.4210854715202004e-12\n",
      "Epoch 77 - loss: 9.094947017729282e-13\n",
      "Epoch 78 - loss: 9.094947017729282e-13\n",
      "Epoch 79 - loss: 9.094947017729282e-13\n",
      "Epoch 80 - loss: 9.094947017729282e-13\n",
      "Epoch 81 - loss: 5.115907697472721e-13\n",
      "Epoch 82 - loss: 5.115907697472721e-13\n",
      "Epoch 83 - loss: 9.094947017729282e-13\n",
      "Epoch 84 - loss: 9.094947017729282e-13\n",
      "Epoch 85 - loss: 5.115907697472721e-13\n",
      "Epoch 86 - loss: 5.115907697472721e-13\n",
      "Epoch 87 - loss: 2.2737367544323206e-13\n",
      "Epoch 88 - loss: 2.2737367544323206e-13\n",
      "Epoch 89 - loss: 2.2737367544323206e-13\n",
      "Epoch 90 - loss: 2.2737367544323206e-13\n",
      "Epoch 91 - loss: 2.2737367544323206e-13\n",
      "Epoch 92 - loss: 5.684341886080802e-14\n",
      "Epoch 93 - loss: 5.684341886080802e-14\n",
      "Epoch 94 - loss: 5.684341886080802e-14\n",
      "Epoch 95 - loss: 5.684341886080802e-14\n",
      "Epoch 96 - loss: 5.684341886080802e-14\n",
      "Epoch 97 - loss: 5.684341886080802e-14\n",
      "Epoch 98 - loss: 5.684341886080802e-14\n",
      "Epoch 99 - loss: 5.684341886080802e-14\n"
     ]
    }
   ],
   "source": [
    "for epoch in range(100):\n",
    "    for i, data2 in enumerate(data):\n",
    "        X, Y = iter(data2)\n",
    "        X, Y = Variable(torch.FloatTensor([X]), requires_grad=True), Variable(torch.FloatTensor([Y]), requires_grad=False)\n",
    "        optimizer.zero_grad()\n",
    "        outputs = net(X) ##calling forward pass\n",
    "        loss = criterion(outputs, Y)\n",
    "        loss.backward()\n",
    "        optimizer.step()\n",
    "        if (i % 10 == 0):\n",
    "            print(\"Epoch {} - loss: {}\".format(epoch, loss.data[0]))"
   ]
  },
  {
   "cell_type": "code",
   "execution_count": 15,
   "metadata": {},
   "outputs": [
    {
     "name": "stdout",
     "output_type": "stream",
     "text": [
      "[Parameter containing:\n",
      "tensor([[3.]], requires_grad=True), Parameter containing:\n",
      "tensor([-0.0000], requires_grad=True)]\n"
     ]
    }
   ],
   "source": [
    "## lets see our trained parameters\n",
    "print(list(net.parameters()))\n"
   ]
  },
  {
   "cell_type": "code",
   "execution_count": 16,
   "metadata": {},
   "outputs": [
    {
     "name": "stdout",
     "output_type": "stream",
     "text": [
      "tensor([[[3.0000]]], grad_fn=<ThAddBackward>)\n"
     ]
    }
   ],
   "source": [
    "print(net(Variable(torch.Tensor([[[1]]]))))\n"
   ]
  },
  {
   "cell_type": "code",
   "execution_count": 17,
   "metadata": {},
   "outputs": [],
   "source": [
    "class Net(nn.Module):\n",
    "    def __init__(self):\n",
    "        super(Net, self).__init__()\n",
    "        self.fc1 = nn.Linear(1,10)\n",
    "        self.fc2 = nn.Linear(10,1)\n",
    "    def forward(self, x):\n",
    "        x = (self.fc1(x))\n",
    "        x = self.fc2(x)\n",
    "        return x"
   ]
  },
  {
   "cell_type": "code",
   "execution_count": 18,
   "metadata": {},
   "outputs": [],
   "source": [
    "net = Net()\n"
   ]
  },
  {
   "cell_type": "code",
   "execution_count": null,
   "metadata": {},
   "outputs": [],
   "source": [
    "class Net(nn.Module):\n",
    "    def __init__(self):\n",
    "        super(Net, self).__init__()\n",
    "        self.fc1 = nn.Linear(1,1)\n",
    "        self.fc2 = nn.Linear(1,1)\n",
    "    def forward(self, x):\n",
    "        x = F.relu(self.fc2(F.relu(self.fc1(x))))\n",
    "        return x\n",
    "criterion = nn.MSELoss()"
   ]
  },
  {
   "cell_type": "code",
   "execution_count": null,
   "metadata": {},
   "outputs": [],
   "source": []
  }
 ],
 "metadata": {
  "kernelspec": {
   "display_name": "Python 3",
   "language": "python",
   "name": "python3"
  },
  "language_info": {
   "codemirror_mode": {
    "name": "ipython",
    "version": 3
   },
   "file_extension": ".py",
   "mimetype": "text/x-python",
   "name": "python",
   "nbconvert_exporter": "python",
   "pygments_lexer": "ipython3",
   "version": "3.7.2"
  }
 },
 "nbformat": 4,
 "nbformat_minor": 2
}
